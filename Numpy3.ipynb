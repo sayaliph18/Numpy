{
  "nbformat": 4,
  "nbformat_minor": 0,
  "metadata": {
    "colab": {
      "provenance": [],
      "authorship_tag": "ABX9TyOIJ2KWxSdTSF/SKhqKDijm"
    },
    "kernelspec": {
      "name": "python3",
      "display_name": "Python 3"
    },
    "language_info": {
      "name": "python"
    }
  },
  "cells": [
    {
      "cell_type": "markdown",
      "source": [
        "## **Statistical Mathematical operations**"
      ],
      "metadata": {
        "id": "E4sH8W_KOorF"
      }
    },
    {
      "cell_type": "markdown",
      "source": [
        "# **Sum()**"
      ],
      "metadata": {
        "id": "a3nDbCs9Os8a"
      }
    },
    {
      "cell_type": "code",
      "execution_count": 1,
      "metadata": {
        "id": "MuLgKcUTM_gS"
      },
      "outputs": [],
      "source": [
        "import numpy as np"
      ]
    },
    {
      "cell_type": "code",
      "source": [
        "x = np.array([[2,3,4],[5,6,7],[8,9,10]])\n",
        "x"
      ],
      "metadata": {
        "colab": {
          "base_uri": "https://localhost:8080/"
        },
        "id": "Dy0AxBuTPak6",
        "outputId": "cfd81030-67ba-48e2-94ea-0ef47fd6a9ba"
      },
      "execution_count": 2,
      "outputs": [
        {
          "output_type": "execute_result",
          "data": {
            "text/plain": [
              "array([[ 2,  3,  4],\n",
              "       [ 5,  6,  7],\n",
              "       [ 8,  9, 10]])"
            ]
          },
          "metadata": {},
          "execution_count": 2
        }
      ]
    },
    {
      "cell_type": "code",
      "source": [
        "np.sum(x)  # addition of all the elements"
      ],
      "metadata": {
        "colab": {
          "base_uri": "https://localhost:8080/"
        },
        "id": "Z89bNYrEPd-y",
        "outputId": "cf1a2413-b65b-4aa7-dcbc-520839801b14"
      },
      "execution_count": 4,
      "outputs": [
        {
          "output_type": "execute_result",
          "data": {
            "text/plain": [
              "54"
            ]
          },
          "metadata": {},
          "execution_count": 4
        }
      ]
    },
    {
      "cell_type": "code",
      "source": [
        "x.sum()"
      ],
      "metadata": {
        "colab": {
          "base_uri": "https://localhost:8080/"
        },
        "id": "5hSBpNh8Pf3j",
        "outputId": "6fdad484-c9ee-46a1-9f3f-cddc2cd5551a"
      },
      "execution_count": 5,
      "outputs": [
        {
          "output_type": "execute_result",
          "data": {
            "text/plain": [
              "54"
            ]
          },
          "metadata": {},
          "execution_count": 5
        }
      ]
    },
    {
      "cell_type": "code",
      "source": [
        "sum(x) #columnwise addition"
      ],
      "metadata": {
        "colab": {
          "base_uri": "https://localhost:8080/"
        },
        "id": "USvxOCnAPj4A",
        "outputId": "78c4efd3-1357-4b29-a2f5-aeca2ce5b16e"
      },
      "execution_count": 6,
      "outputs": [
        {
          "output_type": "execute_result",
          "data": {
            "text/plain": [
              "array([15, 18, 21])"
            ]
          },
          "metadata": {},
          "execution_count": 6
        }
      ]
    },
    {
      "cell_type": "code",
      "source": [
        "x.sum(axis=1) #row-wise addition\n"
      ],
      "metadata": {
        "colab": {
          "base_uri": "https://localhost:8080/"
        },
        "id": "Dw00jBfuPlcI",
        "outputId": "86490b8c-5636-4ded-ec93-2a13c1113654"
      },
      "execution_count": 7,
      "outputs": [
        {
          "output_type": "execute_result",
          "data": {
            "text/plain": [
              "array([ 9, 18, 27])"
            ]
          },
          "metadata": {},
          "execution_count": 7
        }
      ]
    },
    {
      "cell_type": "code",
      "source": [
        "x.sum(axis=0) #column-wise addition"
      ],
      "metadata": {
        "colab": {
          "base_uri": "https://localhost:8080/"
        },
        "id": "Kze71a1JPxUL",
        "outputId": "787183a2-81ae-47a6-81e7-3043ca058d4d"
      },
      "execution_count": 8,
      "outputs": [
        {
          "output_type": "execute_result",
          "data": {
            "text/plain": [
              "array([15, 18, 21])"
            ]
          },
          "metadata": {},
          "execution_count": 8
        }
      ]
    },
    {
      "cell_type": "markdown",
      "source": [
        "### mean(): average of numbers\n",
        "\n"
      ],
      "metadata": {
        "id": "rn_PfN_8P8Jj"
      }
    },
    {
      "cell_type": "code",
      "source": [
        "# average= sumof all numbers/count of numbers\n",
        "x.sum()/x.size"
      ],
      "metadata": {
        "colab": {
          "base_uri": "https://localhost:8080/"
        },
        "id": "wllhnT1IP1mz",
        "outputId": "d5bc79c8-3ff1-40c4-975b-45150f936d7c"
      },
      "execution_count": 9,
      "outputs": [
        {
          "output_type": "execute_result",
          "data": {
            "text/plain": [
              "6.0"
            ]
          },
          "metadata": {},
          "execution_count": 9
        }
      ]
    },
    {
      "cell_type": "code",
      "source": [
        "x.mean()"
      ],
      "metadata": {
        "colab": {
          "base_uri": "https://localhost:8080/"
        },
        "id": "RD4vQFqzQCIh",
        "outputId": "bd21ac12-9b74-4a05-d994-e444dcd936f6"
      },
      "execution_count": 10,
      "outputs": [
        {
          "output_type": "execute_result",
          "data": {
            "text/plain": [
              "6.0"
            ]
          },
          "metadata": {},
          "execution_count": 10
        }
      ]
    },
    {
      "cell_type": "code",
      "source": [
        "x.mean(axis=1) # row wise avg\n"
      ],
      "metadata": {
        "colab": {
          "base_uri": "https://localhost:8080/"
        },
        "id": "lDuIU9VuQDw9",
        "outputId": "b235c32f-3954-4c9b-c77c-5b74253ca9bd"
      },
      "execution_count": 11,
      "outputs": [
        {
          "output_type": "execute_result",
          "data": {
            "text/plain": [
              "array([3., 6., 9.])"
            ]
          },
          "metadata": {},
          "execution_count": 11
        }
      ]
    },
    {
      "cell_type": "code",
      "source": [
        "x.mean(axis=0) # column wise avg"
      ],
      "metadata": {
        "colab": {
          "base_uri": "https://localhost:8080/"
        },
        "id": "CsUvhF6NQI9U",
        "outputId": "f1c96ed2-4bde-4f2e-f44b-280fd1431f5e"
      },
      "execution_count": 12,
      "outputs": [
        {
          "output_type": "execute_result",
          "data": {
            "text/plain": [
              "array([5., 6., 7.])"
            ]
          },
          "metadata": {},
          "execution_count": 12
        }
      ]
    },
    {
      "cell_type": "markdown",
      "source": [
        "# standard deviation"
      ],
      "metadata": {
        "id": "gZ6SYLUFQudi"
      }
    },
    {
      "cell_type": "code",
      "source": [
        "np.std(x)"
      ],
      "metadata": {
        "colab": {
          "base_uri": "https://localhost:8080/"
        },
        "id": "QSo3Bcg6QRJx",
        "outputId": "8ecfcc5b-ca41-4470-c1b8-a0b9f980bbfe"
      },
      "execution_count": 14,
      "outputs": [
        {
          "output_type": "execute_result",
          "data": {
            "text/plain": [
              "2.581988897471611"
            ]
          },
          "metadata": {},
          "execution_count": 14
        }
      ]
    },
    {
      "cell_type": "code",
      "source": [
        "x.std(axis=1)"
      ],
      "metadata": {
        "colab": {
          "base_uri": "https://localhost:8080/"
        },
        "id": "q4BLYRVuQkNh",
        "outputId": "fcbbaf96-412f-43e0-d3ec-6a26cb3ba7dd"
      },
      "execution_count": 15,
      "outputs": [
        {
          "output_type": "execute_result",
          "data": {
            "text/plain": [
              "array([0.81649658, 0.81649658, 0.81649658])"
            ]
          },
          "metadata": {},
          "execution_count": 15
        }
      ]
    },
    {
      "cell_type": "code",
      "source": [
        "x.std(axis=0)"
      ],
      "metadata": {
        "colab": {
          "base_uri": "https://localhost:8080/"
        },
        "id": "GgHyhHkDQ5bk",
        "outputId": "d6c45266-af4c-40af-eb40-f3b9f8011955"
      },
      "execution_count": 16,
      "outputs": [
        {
          "output_type": "execute_result",
          "data": {
            "text/plain": [
              "array([2.44948974, 2.44948974, 2.44948974])"
            ]
          },
          "metadata": {},
          "execution_count": 16
        }
      ]
    },
    {
      "cell_type": "markdown",
      "source": [
        "# Operations over numpy array"
      ],
      "metadata": {
        "id": "Z9wMgffJRK2U"
      }
    },
    {
      "cell_type": "code",
      "source": [
        "a = np.random.random((3,3))\n",
        "a"
      ],
      "metadata": {
        "colab": {
          "base_uri": "https://localhost:8080/"
        },
        "id": "hXScES5rRI-3",
        "outputId": "b6b6bf9c-64f1-42e0-f050-e5044146081f"
      },
      "execution_count": 19,
      "outputs": [
        {
          "output_type": "execute_result",
          "data": {
            "text/plain": [
              "array([[0.52060651, 0.53477645, 0.25540548],\n",
              "       [0.70060443, 0.71239425, 0.88718471],\n",
              "       [0.13286935, 0.33597043, 0.11994544]])"
            ]
          },
          "metadata": {},
          "execution_count": 19
        }
      ]
    },
    {
      "cell_type": "code",
      "source": [
        "#add 1000 in each number\n",
        "#elementwise addition\n",
        "np.add(a,1000)"
      ],
      "metadata": {
        "colab": {
          "base_uri": "https://localhost:8080/"
        },
        "id": "4QSbWudQRRkd",
        "outputId": "f9c673ab-d912-4107-8f43-3c7c9f73a36a"
      },
      "execution_count": 20,
      "outputs": [
        {
          "output_type": "execute_result",
          "data": {
            "text/plain": [
              "array([[1000.52060651, 1000.53477645, 1000.25540548],\n",
              "       [1000.70060443, 1000.71239425, 1000.88718471],\n",
              "       [1000.13286935, 1000.33597043, 1000.11994544]])"
            ]
          },
          "metadata": {},
          "execution_count": 20
        }
      ]
    },
    {
      "cell_type": "code",
      "source": [
        "a + 1000"
      ],
      "metadata": {
        "colab": {
          "base_uri": "https://localhost:8080/"
        },
        "id": "8hrxuMMvRadp",
        "outputId": "98058c45-08a7-4c22-abf5-e8f68dfbd584"
      },
      "execution_count": 21,
      "outputs": [
        {
          "output_type": "execute_result",
          "data": {
            "text/plain": [
              "array([[1000.52060651, 1000.53477645, 1000.25540548],\n",
              "       [1000.70060443, 1000.71239425, 1000.88718471],\n",
              "       [1000.13286935, 1000.33597043, 1000.11994544]])"
            ]
          },
          "metadata": {},
          "execution_count": 21
        }
      ]
    },
    {
      "cell_type": "code",
      "source": [
        "a #all above ops are temp., they are not chaning original array"
      ],
      "metadata": {
        "colab": {
          "base_uri": "https://localhost:8080/"
        },
        "id": "ksjy1nAERdvR",
        "outputId": "4773cae1-f896-403d-b690-cb343a4b9f64"
      },
      "execution_count": 22,
      "outputs": [
        {
          "output_type": "execute_result",
          "data": {
            "text/plain": [
              "array([[0.52060651, 0.53477645, 0.25540548],\n",
              "       [0.70060443, 0.71239425, 0.88718471],\n",
              "       [0.13286935, 0.33597043, 0.11994544]])"
            ]
          },
          "metadata": {},
          "execution_count": 22
        }
      ]
    },
    {
      "cell_type": "code",
      "source": [
        "#x**2\n",
        "np.power(x,3)"
      ],
      "metadata": {
        "colab": {
          "base_uri": "https://localhost:8080/"
        },
        "id": "Lv0B_-KzRfDz",
        "outputId": "9712177b-79f2-45ee-ef51-09e17b1fe03d"
      },
      "execution_count": 23,
      "outputs": [
        {
          "output_type": "execute_result",
          "data": {
            "text/plain": [
              "array([[   8,   27,   64],\n",
              "       [ 125,  216,  343],\n",
              "       [ 512,  729, 1000]])"
            ]
          },
          "metadata": {},
          "execution_count": 23
        }
      ]
    },
    {
      "cell_type": "code",
      "source": [
        "p = np.array([[10,20],[30,40]])\n",
        "p"
      ],
      "metadata": {
        "colab": {
          "base_uri": "https://localhost:8080/"
        },
        "id": "m7eIaCj_Rmr6",
        "outputId": "1a4b742e-f1ba-4048-84a4-1a63336b8183"
      },
      "execution_count": 24,
      "outputs": [
        {
          "output_type": "execute_result",
          "data": {
            "text/plain": [
              "array([[10, 20],\n",
              "       [30, 40]])"
            ]
          },
          "metadata": {},
          "execution_count": 24
        }
      ]
    },
    {
      "cell_type": "code",
      "source": [
        "q = np.array([[1,2],[4,5]])\n",
        "q"
      ],
      "metadata": {
        "colab": {
          "base_uri": "https://localhost:8080/"
        },
        "id": "fTAqCg0fRpdH",
        "outputId": "450ffc62-a71f-43aa-8b7c-230156ad8db7"
      },
      "execution_count": 25,
      "outputs": [
        {
          "output_type": "execute_result",
          "data": {
            "text/plain": [
              "array([[1, 2],\n",
              "       [4, 5]])"
            ]
          },
          "metadata": {},
          "execution_count": 25
        }
      ]
    },
    {
      "cell_type": "code",
      "source": [
        "p + q   #addition of 2 arrays using operator: element by element addition"
      ],
      "metadata": {
        "colab": {
          "base_uri": "https://localhost:8080/"
        },
        "id": "bae4KRzpRr4y",
        "outputId": "62cf1c7c-0b88-4fee-aa8a-ebcb0cb748e8"
      },
      "execution_count": 26,
      "outputs": [
        {
          "output_type": "execute_result",
          "data": {
            "text/plain": [
              "array([[11, 22],\n",
              "       [34, 45]])"
            ]
          },
          "metadata": {},
          "execution_count": 26
        }
      ]
    },
    {
      "cell_type": "code",
      "source": [
        "np.add(p,q) #addition of 2 arrays using add method of numpy"
      ],
      "metadata": {
        "colab": {
          "base_uri": "https://localhost:8080/"
        },
        "id": "E27u1yZgRswQ",
        "outputId": "71d726b7-c01b-430e-cbcd-efabe4b5ae1a"
      },
      "execution_count": 28,
      "outputs": [
        {
          "output_type": "execute_result",
          "data": {
            "text/plain": [
              "array([[11, 22],\n",
              "       [34, 45]])"
            ]
          },
          "metadata": {},
          "execution_count": 28
        }
      ]
    },
    {
      "cell_type": "code",
      "source": [],
      "metadata": {
        "id": "O64AeE6NRz4r"
      },
      "execution_count": null,
      "outputs": []
    }
  ]
}