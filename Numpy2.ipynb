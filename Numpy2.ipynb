{
  "nbformat": 4,
  "nbformat_minor": 0,
  "metadata": {
    "colab": {
      "provenance": [],
      "authorship_tag": "ABX9TyO5KPdhB3kYCtR79eS5r8IF"
    },
    "kernelspec": {
      "name": "python3",
      "display_name": "Python 3"
    },
    "language_info": {
      "name": "python"
    }
  },
  "cells": [
    {
      "cell_type": "markdown",
      "source": [
        "##Explore different ways of creating numpy array"
      ],
      "metadata": {
        "id": "X77JNTesePlH"
      }
    },
    {
      "cell_type": "markdown",
      "source": [
        "## **np.arange**\n",
        "\n",
        "Return evenly spaced values within a given interval."
      ],
      "metadata": {
        "id": "Lh55EsJfeWXc"
      }
    },
    {
      "cell_type": "code",
      "execution_count": 3,
      "metadata": {
        "colab": {
          "base_uri": "https://localhost:8080/"
        },
        "id": "9am7dvL-eJjW",
        "outputId": "0e91f3ee-8506-406e-920a-e87d7efd2182"
      },
      "outputs": [
        {
          "output_type": "execute_result",
          "data": {
            "text/plain": [
              "array([0, 1, 2, 3, 4, 5])"
            ]
          },
          "metadata": {},
          "execution_count": 3
        }
      ],
      "source": [
        "import numpy as np\n",
        "# exactly same as that of range in python\n",
        "np.arange(6)"
      ]
    },
    {
      "cell_type": "code",
      "source": [
        "np.arange(3,7)"
      ],
      "metadata": {
        "colab": {
          "base_uri": "https://localhost:8080/"
        },
        "id": "AnM9x_ipehVn",
        "outputId": "4a4ff648-01ac-41b7-84c3-5d1c88bf27d5"
      },
      "execution_count": 5,
      "outputs": [
        {
          "output_type": "execute_result",
          "data": {
            "text/plain": [
              "array([3, 4, 5, 6])"
            ]
          },
          "metadata": {},
          "execution_count": 5
        }
      ]
    },
    {
      "cell_type": "code",
      "source": [
        "np.arange(2,21,2)"
      ],
      "metadata": {
        "colab": {
          "base_uri": "https://localhost:8080/"
        },
        "id": "bcs1Ju3oemeA",
        "outputId": "4ba4ae4d-a8ce-4e60-e953-a9effdb06e70"
      },
      "execution_count": 6,
      "outputs": [
        {
          "output_type": "execute_result",
          "data": {
            "text/plain": [
              "array([ 2,  4,  6,  8, 10, 12, 14, 16, 18, 20])"
            ]
          },
          "metadata": {},
          "execution_count": 6
        }
      ]
    },
    {
      "cell_type": "code",
      "source": [
        "np.arange(10,0,-1)"
      ],
      "metadata": {
        "colab": {
          "base_uri": "https://localhost:8080/"
        },
        "id": "BgKcS-QXe7E-",
        "outputId": "1376c190-c402-40fb-9018-8dea65ae6aaf"
      },
      "execution_count": 7,
      "outputs": [
        {
          "output_type": "execute_result",
          "data": {
            "text/plain": [
              "array([10,  9,  8,  7,  6,  5,  4,  3,  2,  1])"
            ]
          },
          "metadata": {},
          "execution_count": 7
        }
      ]
    },
    {
      "cell_type": "markdown",
      "source": [
        "## **np.random()**\n",
        "\n",
        " Return random floats in the half-open interval [0.0, 1.0)."
      ],
      "metadata": {
        "id": "CNurv8ayfCRq"
      }
    },
    {
      "cell_type": "code",
      "source": [
        "np.random.random(5)"
      ],
      "metadata": {
        "colab": {
          "base_uri": "https://localhost:8080/"
        },
        "id": "cUd2vR6Je9yc",
        "outputId": "8cf2a3e3-7d88-4d2a-b41a-18572084ee24"
      },
      "execution_count": 8,
      "outputs": [
        {
          "output_type": "execute_result",
          "data": {
            "text/plain": [
              "array([0.76870642, 0.96392438, 0.11880466, 0.22016653, 0.83404927])"
            ]
          },
          "metadata": {},
          "execution_count": 8
        }
      ]
    },
    {
      "cell_type": "code",
      "source": [
        "np.random.random((4,5))"
      ],
      "metadata": {
        "colab": {
          "base_uri": "https://localhost:8080/"
        },
        "id": "rWTOGXpKfYBL",
        "outputId": "e0b8fa68-1f6a-4010-f460-6fe5b0f2e73d"
      },
      "execution_count": 9,
      "outputs": [
        {
          "output_type": "execute_result",
          "data": {
            "text/plain": [
              "array([[0.64851641, 0.46500735, 0.59042662, 0.76651117, 0.92982156],\n",
              "       [0.03023312, 0.35385832, 0.92975442, 0.48234276, 0.81263286],\n",
              "       [0.74432035, 0.6977596 , 0.01597304, 0.11583002, 0.99056319],\n",
              "       [0.2589033 , 0.34916774, 0.79122291, 0.6907782 , 0.74241385]])"
            ]
          },
          "metadata": {},
          "execution_count": 9
        }
      ]
    },
    {
      "cell_type": "code",
      "source": [
        "np.random.random((3,2,2))"
      ],
      "metadata": {
        "colab": {
          "base_uri": "https://localhost:8080/"
        },
        "id": "_S7AwHFPfbcn",
        "outputId": "f6b87699-4345-483b-a711-6ed59c2bdf43"
      },
      "execution_count": 10,
      "outputs": [
        {
          "output_type": "execute_result",
          "data": {
            "text/plain": [
              "array([[[0.91413711, 0.0814674 ],\n",
              "        [0.84801783, 0.42628661]],\n",
              "\n",
              "       [[0.29001977, 0.27173545],\n",
              "        [0.22459447, 0.57895734]],\n",
              "\n",
              "       [[0.16071449, 0.13194489],\n",
              "        [0.26632241, 0.57900003]]])"
            ]
          },
          "metadata": {},
          "execution_count": 10
        }
      ]
    },
    {
      "cell_type": "markdown",
      "source": [
        "## **np.randint()**\n",
        "\n",
        "randint(low, high=None, size=None, dtype=int)\n",
        "\n",
        "Return random integers from `low` (inclusive) to `high` (exclusive)."
      ],
      "metadata": {
        "id": "TtyQv-MJfkU-"
      }
    },
    {
      "cell_type": "code",
      "source": [
        "np.random.randint(low=2,high=13)"
      ],
      "metadata": {
        "colab": {
          "base_uri": "https://localhost:8080/"
        },
        "id": "AYX2Yeqpfgag",
        "outputId": "a98eda06-9bd6-4462-d058-697f068c1cff"
      },
      "execution_count": 12,
      "outputs": [
        {
          "output_type": "execute_result",
          "data": {
            "text/plain": [
              "9"
            ]
          },
          "metadata": {},
          "execution_count": 12
        }
      ]
    },
    {
      "cell_type": "code",
      "source": [
        "np.random.randint(low=2,high=13,size=6)"
      ],
      "metadata": {
        "colab": {
          "base_uri": "https://localhost:8080/"
        },
        "id": "f5nO8n65f4R-",
        "outputId": "6833a34b-12ea-438c-ee32-a4820ba5e797"
      },
      "execution_count": 13,
      "outputs": [
        {
          "output_type": "execute_result",
          "data": {
            "text/plain": [
              "array([10,  7, 11, 11,  4,  8])"
            ]
          },
          "metadata": {},
          "execution_count": 13
        }
      ]
    },
    {
      "cell_type": "markdown",
      "source": [
        "## **np.zeros()**\n",
        "Return a new array of given shape and type, filled with zeros"
      ],
      "metadata": {
        "id": "2K1UL8UCgo2o"
      }
    },
    {
      "cell_type": "code",
      "source": [
        "np.zeros((3))"
      ],
      "metadata": {
        "colab": {
          "base_uri": "https://localhost:8080/"
        },
        "id": "KgnH_AGpgOK0",
        "outputId": "cfad6bdf-cfa6-4870-80b8-d988507a6398"
      },
      "execution_count": 15,
      "outputs": [
        {
          "output_type": "execute_result",
          "data": {
            "text/plain": [
              "array([0., 0., 0.])"
            ]
          },
          "metadata": {},
          "execution_count": 15
        }
      ]
    },
    {
      "cell_type": "code",
      "source": [
        "np.zeros((3,4))"
      ],
      "metadata": {
        "colab": {
          "base_uri": "https://localhost:8080/"
        },
        "id": "u3WFk_DdgnDs",
        "outputId": "f297110f-f596-45ca-a6a3-7dca4d3815e9"
      },
      "execution_count": 16,
      "outputs": [
        {
          "output_type": "execute_result",
          "data": {
            "text/plain": [
              "array([[0., 0., 0., 0.],\n",
              "       [0., 0., 0., 0.],\n",
              "       [0., 0., 0., 0.]])"
            ]
          },
          "metadata": {},
          "execution_count": 16
        }
      ]
    },
    {
      "cell_type": "markdown",
      "source": [
        "## **np.ones()**\n",
        "Return a new array of given shape and type, filled with ones.\n"
      ],
      "metadata": {
        "id": "OO0sBVwng6lC"
      }
    },
    {
      "cell_type": "code",
      "source": [
        "np.ones(7)"
      ],
      "metadata": {
        "colab": {
          "base_uri": "https://localhost:8080/"
        },
        "id": "Xqqim5SPg3e1",
        "outputId": "48c9305d-6823-498a-a805-357e78ec7106"
      },
      "execution_count": 19,
      "outputs": [
        {
          "output_type": "execute_result",
          "data": {
            "text/plain": [
              "array([1., 1., 1., 1., 1., 1., 1.])"
            ]
          },
          "metadata": {},
          "execution_count": 19
        }
      ]
    },
    {
      "cell_type": "code",
      "source": [
        "np.ones((3,4,2))"
      ],
      "metadata": {
        "colab": {
          "base_uri": "https://localhost:8080/"
        },
        "id": "olMj_CYYg-Kw",
        "outputId": "8668c782-ec82-4275-a2c1-84f44ea19966"
      },
      "execution_count": 20,
      "outputs": [
        {
          "output_type": "execute_result",
          "data": {
            "text/plain": [
              "array([[[1., 1.],\n",
              "        [1., 1.],\n",
              "        [1., 1.],\n",
              "        [1., 1.]],\n",
              "\n",
              "       [[1., 1.],\n",
              "        [1., 1.],\n",
              "        [1., 1.],\n",
              "        [1., 1.]],\n",
              "\n",
              "       [[1., 1.],\n",
              "        [1., 1.],\n",
              "        [1., 1.],\n",
              "        [1., 1.]]])"
            ]
          },
          "metadata": {},
          "execution_count": 20
        }
      ]
    },
    {
      "cell_type": "markdown",
      "source": [
        "## **np.identity()**\n",
        "Return the identity array.\n",
        "\n",
        "The identity array is a square array with ones on\n",
        "the main diagonal."
      ],
      "metadata": {
        "id": "5ir4qKmShOol"
      }
    },
    {
      "cell_type": "code",
      "source": [
        "np.identity(4)"
      ],
      "metadata": {
        "colab": {
          "base_uri": "https://localhost:8080/"
        },
        "id": "lg9VSFiMhIMH",
        "outputId": "a64a1794-94cc-4d34-a2b9-33591f49e647"
      },
      "execution_count": 24,
      "outputs": [
        {
          "output_type": "execute_result",
          "data": {
            "text/plain": [
              "array([[1., 0., 0., 0.],\n",
              "       [0., 1., 0., 0.],\n",
              "       [0., 0., 1., 0.],\n",
              "       [0., 0., 0., 1.]])"
            ]
          },
          "metadata": {},
          "execution_count": 24
        }
      ]
    },
    {
      "cell_type": "code",
      "source": [
        "#1. Create 4x4 array with all values set to True\n",
        "np.ones((4,4),dtype=bool)"
      ],
      "metadata": {
        "colab": {
          "base_uri": "https://localhost:8080/"
        },
        "id": "9-64MvX9hM6S",
        "outputId": "c0b0ec19-7ace-42c3-b4a4-a73fc17a5ffb"
      },
      "execution_count": 29,
      "outputs": [
        {
          "output_type": "execute_result",
          "data": {
            "text/plain": [
              "array([[ True,  True,  True,  True],\n",
              "       [ True,  True,  True,  True],\n",
              "       [ True,  True,  True,  True],\n",
              "       [ True,  True,  True,  True]])"
            ]
          },
          "metadata": {},
          "execution_count": 29
        }
      ]
    },
    {
      "cell_type": "code",
      "source": [
        "#2. Create 4x4 array with all values set to False\n",
        "np.zeros((4,4),dtype=bool)"
      ],
      "metadata": {
        "colab": {
          "base_uri": "https://localhost:8080/"
        },
        "id": "xPZxIVqyhqWm",
        "outputId": "6d52de8d-e5d9-4f9a-e7a8-1486a5fc1372"
      },
      "execution_count": 31,
      "outputs": [
        {
          "output_type": "execute_result",
          "data": {
            "text/plain": [
              "array([[False, False, False, False],\n",
              "       [False, False, False, False],\n",
              "       [False, False, False, False],\n",
              "       [False, False, False, False]])"
            ]
          },
          "metadata": {},
          "execution_count": 31
        }
      ]
    },
    {
      "cell_type": "code",
      "source": [
        "#3. Create 4x4 array with diagonal values set to True and Non diagonal False\n",
        "np.identity(4,dtype=bool)"
      ],
      "metadata": {
        "colab": {
          "base_uri": "https://localhost:8080/"
        },
        "id": "yG30re8ziD0d",
        "outputId": "90dd7b00-6754-4a45-9a3e-0de0fd9a2695"
      },
      "execution_count": 33,
      "outputs": [
        {
          "output_type": "execute_result",
          "data": {
            "text/plain": [
              "array([[ True, False, False, False],\n",
              "       [False,  True, False, False],\n",
              "       [False, False,  True, False],\n",
              "       [False, False, False,  True]])"
            ]
          },
          "metadata": {},
          "execution_count": 33
        }
      ]
    },
    {
      "cell_type": "code",
      "source": [
        "#4. Create 4x4 array with diagonal values set to False and Non diagonal True\n",
        "~np.identity(4,dtype=bool)"
      ],
      "metadata": {
        "colab": {
          "base_uri": "https://localhost:8080/"
        },
        "id": "ky-_GuuxiOWL",
        "outputId": "870bb94a-380a-4381-ad24-b129ee666c50"
      },
      "execution_count": 34,
      "outputs": [
        {
          "output_type": "execute_result",
          "data": {
            "text/plain": [
              "array([[False,  True,  True,  True],\n",
              "       [ True, False,  True,  True],\n",
              "       [ True,  True, False,  True],\n",
              "       [ True,  True,  True, False]])"
            ]
          },
          "metadata": {},
          "execution_count": 34
        }
      ]
    },
    {
      "cell_type": "markdown",
      "source": [
        "## **np.full()**\n",
        "Return a new array of given shape and type, filled with `fill_value`.\n"
      ],
      "metadata": {
        "id": "ZZK0uCaKim4U"
      }
    },
    {
      "cell_type": "code",
      "source": [
        "np.full((3,4),10)"
      ],
      "metadata": {
        "colab": {
          "base_uri": "https://localhost:8080/"
        },
        "id": "6GDXpp4pia2n",
        "outputId": "e6e3ebc7-7eec-4987-b2b3-57a38e20d6b6"
      },
      "execution_count": 36,
      "outputs": [
        {
          "output_type": "execute_result",
          "data": {
            "text/plain": [
              "array([[10, 10, 10, 10],\n",
              "       [10, 10, 10, 10],\n",
              "       [10, 10, 10, 10]])"
            ]
          },
          "metadata": {},
          "execution_count": 36
        }
      ]
    },
    {
      "cell_type": "code",
      "source": [
        "np.full((3,4,3),5)"
      ],
      "metadata": {
        "colab": {
          "base_uri": "https://localhost:8080/"
        },
        "id": "QzZoiXghil6t",
        "outputId": "ce16a10b-7e48-40e7-d296-f93c3bcdc67f"
      },
      "execution_count": 38,
      "outputs": [
        {
          "output_type": "execute_result",
          "data": {
            "text/plain": [
              "array([[[5, 5, 5],\n",
              "        [5, 5, 5],\n",
              "        [5, 5, 5],\n",
              "        [5, 5, 5]],\n",
              "\n",
              "       [[5, 5, 5],\n",
              "        [5, 5, 5],\n",
              "        [5, 5, 5],\n",
              "        [5, 5, 5]],\n",
              "\n",
              "       [[5, 5, 5],\n",
              "        [5, 5, 5],\n",
              "        [5, 5, 5],\n",
              "        [5, 5, 5]]])"
            ]
          },
          "metadata": {},
          "execution_count": 38
        }
      ]
    },
    {
      "cell_type": "markdown",
      "source": [
        "## **np.random.randn()**\n",
        "Return a sample (or samples) from the \"standard normal\" distribution.\n",
        "\n",
        "means values bentwen range -3 to +3"
      ],
      "metadata": {
        "id": "WPCVzAeEjEdJ"
      }
    },
    {
      "cell_type": "code",
      "source": [
        "np.random.randn(4)"
      ],
      "metadata": {
        "colab": {
          "base_uri": "https://localhost:8080/"
        },
        "id": "9QsMEaWDi2b-",
        "outputId": "1b2245ef-b66f-48d6-cd39-29e0dc9b65a4"
      },
      "execution_count": 39,
      "outputs": [
        {
          "output_type": "execute_result",
          "data": {
            "text/plain": [
              "array([-0.30589835, -0.34912   ,  1.82342632,  0.11564574])"
            ]
          },
          "metadata": {},
          "execution_count": 39
        }
      ]
    },
    {
      "cell_type": "code",
      "source": [
        "np.random.randn(3,4)"
      ],
      "metadata": {
        "colab": {
          "base_uri": "https://localhost:8080/"
        },
        "id": "yKpqwUi-jPH3",
        "outputId": "3b0288b9-1ab1-4117-d98e-1cfea6c179f7"
      },
      "execution_count": 41,
      "outputs": [
        {
          "output_type": "execute_result",
          "data": {
            "text/plain": [
              "array([[-0.38912121,  1.20114348, -0.68937017,  1.14739793],\n",
              "       [ 0.49240889,  0.23069619, -0.17983705, -1.74801778],\n",
              "       [ 1.72028996,  0.07206254, -0.64905835, -1.44864395]])"
            ]
          },
          "metadata": {},
          "execution_count": 41
        }
      ]
    },
    {
      "cell_type": "markdown",
      "source": [
        "## create an empty array"
      ],
      "metadata": {
        "id": "Q_WnWfiGjawD"
      }
    },
    {
      "cell_type": "code",
      "source": [
        "np.array(None)"
      ],
      "metadata": {
        "colab": {
          "base_uri": "https://localhost:8080/"
        },
        "id": "_N4t-L9HjRbZ",
        "outputId": "16328674-9aed-442e-bdec-48c05a7b2990"
      },
      "execution_count": 42,
      "outputs": [
        {
          "output_type": "execute_result",
          "data": {
            "text/plain": [
              "array(None, dtype=object)"
            ]
          },
          "metadata": {},
          "execution_count": 42
        }
      ]
    },
    {
      "cell_type": "code",
      "source": [
        "np.array([])"
      ],
      "metadata": {
        "colab": {
          "base_uri": "https://localhost:8080/"
        },
        "id": "ckxt_XQ1jhRd",
        "outputId": "3ceefc27-37bf-411b-9c05-0ce854af8458"
      },
      "execution_count": 43,
      "outputs": [
        {
          "output_type": "execute_result",
          "data": {
            "text/plain": [
              "array([], dtype=float64)"
            ]
          },
          "metadata": {},
          "execution_count": 43
        }
      ]
    },
    {
      "cell_type": "code",
      "source": [
        "# what is a type of numpy array?\n",
        "a = np.array([1,2,3,4])\n",
        "type(a)"
      ],
      "metadata": {
        "colab": {
          "base_uri": "https://localhost:8080/"
        },
        "id": "Yhhmw1aNjjCS",
        "outputId": "3ef4f70c-ca82-4a19-a529-edd6cd733aa2"
      },
      "execution_count": 44,
      "outputs": [
        {
          "output_type": "execute_result",
          "data": {
            "text/plain": [
              "numpy.ndarray"
            ]
          },
          "metadata": {},
          "execution_count": 44
        }
      ]
    },
    {
      "cell_type": "markdown",
      "source": [
        "## Create an array with same dimension and shape"
      ],
      "metadata": {
        "id": "2-7zbHf5juxG"
      }
    },
    {
      "cell_type": "code",
      "source": [
        "a = np.random.random((3,3))\n",
        "a"
      ],
      "metadata": {
        "colab": {
          "base_uri": "https://localhost:8080/"
        },
        "id": "LAaUEGYHjpdf",
        "outputId": "e277fe4a-4f1d-4be2-b619-0f4176b067d0"
      },
      "execution_count": 46,
      "outputs": [
        {
          "output_type": "execute_result",
          "data": {
            "text/plain": [
              "array([[0.09024025, 0.12122122, 0.45878722],\n",
              "       [0.04086412, 0.8360259 , 0.25694593],\n",
              "       [0.96802144, 0.75173782, 0.66308817]])"
            ]
          },
          "metadata": {},
          "execution_count": 46
        }
      ]
    },
    {
      "cell_type": "code",
      "source": [
        "#np.ones_like\n",
        "np.ones_like(a)"
      ],
      "metadata": {
        "colab": {
          "base_uri": "https://localhost:8080/"
        },
        "id": "6iylHbrPj2ho",
        "outputId": "734d8b4f-597e-4505-8d57-50084a22fb1c"
      },
      "execution_count": 47,
      "outputs": [
        {
          "output_type": "execute_result",
          "data": {
            "text/plain": [
              "array([[1., 1., 1.],\n",
              "       [1., 1., 1.],\n",
              "       [1., 1., 1.]])"
            ]
          },
          "metadata": {},
          "execution_count": 47
        }
      ]
    },
    {
      "cell_type": "code",
      "source": [
        "#np.zeros_like\n",
        "np.zeros_like(a)"
      ],
      "metadata": {
        "colab": {
          "base_uri": "https://localhost:8080/"
        },
        "id": "TiZER0DAj_er",
        "outputId": "361d7a1c-cf9d-44b4-e05c-db5723230a82"
      },
      "execution_count": 48,
      "outputs": [
        {
          "output_type": "execute_result",
          "data": {
            "text/plain": [
              "array([[0., 0., 0.],\n",
              "       [0., 0., 0.],\n",
              "       [0., 0., 0.]])"
            ]
          },
          "metadata": {},
          "execution_count": 48
        }
      ]
    },
    {
      "cell_type": "code",
      "source": [
        "# create an empty array with garbage values\n",
        "np.empty_like(a)"
      ],
      "metadata": {
        "colab": {
          "base_uri": "https://localhost:8080/"
        },
        "id": "p1HmXWcqkF6h",
        "outputId": "eb9ec59b-a2ec-4ff6-c87e-d9740d8a216f"
      },
      "execution_count": 49,
      "outputs": [
        {
          "output_type": "execute_result",
          "data": {
            "text/plain": [
              "array([[0., 0., 0.],\n",
              "       [0., 0., 0.],\n",
              "       [0., 0., 0.]])"
            ]
          },
          "metadata": {},
          "execution_count": 49
        }
      ]
    },
    {
      "cell_type": "code",
      "source": [],
      "metadata": {
        "id": "ocsR18TUkI74"
      },
      "execution_count": null,
      "outputs": []
    }
  ]
}